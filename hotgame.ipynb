{
 "cells": [
  {
   "cell_type": "markdown",
   "metadata": {
    "id": "tAZq3vFDcFiT"
   },
   "source": [
    "# Textual-inversion fine-tuning for Stable Diffusion using d🧨ffusers \n",
    "\n",
    "This notebook shows how to \"teach\" Stable Diffusion a new concept via textual-inversion using 🤗 Hugging Face [🧨 Diffusers library](https://github.com/huggingface/diffusers). \n",
    "\n",
    "_By using just 3-5 images you can teach new concepts to Stable Diffusion and personalize the model on your own images_ \n",
    "\n",
    "For a general introduction to the Stable Diffusion model please refer to this [colab](https://colab.research.google.com/github/huggingface/notebooks/blob/main/diffusers/stable_diffusion.ipynb).\n",
    "\n"
   ]
  },
  {
   "cell_type": "markdown",
   "metadata": {
    "id": "KbzZ9xe6dWwf"
   },
   "source": [
    "## Initial setup"
   ]
  },
  {
   "cell_type": "code",
   "execution_count": null,
   "metadata": {
    "colab": {
     "base_uri": "https://localhost:8080/"
    },
    "executionInfo": {
     "elapsed": 10521,
     "status": "ok",
     "timestamp": 1667803057992,
     "user": {
      "displayName": "Ethan Jiang",
      "userId": "03869454943297393300"
     },
     "user_tz": -480
    },
    "id": "30lu8LWXmg5j",
    "outputId": "9f5ac1b3-916d-4570-b558-74554d41a3d8"
   },
   "outputs": [],
   "source": [
    "#@title Install the required libs\n",
    "#!pip install -qq diffusers[\"training\"]==0.4.1 \n",
    "#!pip install transformers ftfy\n",
    "#!pip install -qq \"ipywidgets>=7,<8\""
   ]
  },
  {
   "cell_type": "code",
   "execution_count": null,
   "metadata": {},
   "outputs": [],
   "source": [
    "#@title Import required libraries\n",
    "#import argparse\n",
    "#import itertools\n",
    "#import math\n",
    "import os\n",
    "#import random\n",
    "\n",
    "#import numpy as np\n",
    "import torch\n",
    "#import torch.nn.functional as F\n",
    "import torch.utils.checkpoint\n",
    "#from torch.utils.data import Dataset\n",
    "\n",
    "#import PIL\n",
    "#from accelerate import Accelerator\n",
    "#from accelerate.logging import get_logger\n",
    "#from accelerate.utils import set_seed\n",
    "from diffusers import AutoencoderKL, StableDiffusionPipeline, UNet2DConditionModel #,  DDPMScheduler, PNDMScheduler,\n",
    "#from diffusers.hub_utils import init_git_repo, push_to_hub\n",
    "#from diffusers.optimization import get_scheduler\n",
    "#from diffusers.pipelines.stable_diffusion import StableDiffusionSafetyChecker\n",
    "#from PIL import Image\n",
    "#from torchvision import transforms\n",
    "#from tqdm.auto import tqdm\n",
    "from transformers import CLIPTextModel, CLIPTokenizer # CLIPFeatureExtractor, "
   ]
  },
  {
   "cell_type": "code",
   "execution_count": null,
   "metadata": {
    "colab": {
     "base_uri": "https://localhost:8080/",
     "height": 299,
     "referenced_widgets": [
      "005d19cf5dd94e64a62bbae1b3c88f69",
      "2789f85e8ce743059a74af3ae16c97f3",
      "30636e484d3749749283bee27ecf1b24",
      "580c0ba6f2a844979fb17bdf3b68f19e",
      "5c67838de8a64646a712569ee22c213d",
      "56efc95553ec4ac9aa052ec76ce92193",
      "633802acc0f44142a24c2eca07b48f09",
      "4c11bbdec0bb458dbaa6b2cf7d398056",
      "5c03b690849d4e40937e10f38b503143",
      "b842ab56c48e4cf1b751b43f6482571f",
      "6534e28ef2d345e9a4b07258961733bc",
      "843b051f9bfa44e2a1b8d59f00c6ad7d",
      "cc1ee3eb6b6f4b0eb81a6d435ca11f40",
      "a6ac52363502466b9ad198270338728f"
     ]
    },
    "executionInfo": {
     "elapsed": 483,
     "status": "ok",
     "timestamp": 1667803058469,
     "user": {
      "displayName": "Ethan Jiang",
      "userId": "03869454943297393300"
     },
     "user_tz": -480
    },
    "id": "24zwrNSBm4A3",
    "outputId": "218cd377-6def-4224-f9d3-fbc6d79a914a"
   },
   "outputs": [],
   "source": [
    "#@title Login to the Hugging Face Hub\n",
    "#@markdown Add a token with the \"Write Access\" role to be able to add your trained concept to the [Library of Concepts](https://huggingface.co/sd-concepts-library)\n",
    "from huggingface_hub import notebook_login\n",
    "notebook_login()"
   ]
  },
  {
   "cell_type": "markdown",
   "metadata": {
    "id": "Yl3r7A_3ASxm"
   },
   "source": [
    "## Settings for teaching your new concept"
   ]
  },
  {
   "cell_type": "code",
   "execution_count": null,
   "metadata": {
    "cellView": "form",
    "executionInfo": {
     "elapsed": 7,
     "status": "ok",
     "timestamp": 1667803071420,
     "user": {
      "displayName": "Ethan Jiang",
      "userId": "03869454943297393300"
     },
     "user_tz": -480
    },
    "id": "If5Jswe526QP"
   },
   "outputs": [],
   "source": [
    "#@markdown `pretrained_model_name_or_path` which Stable Diffusion checkpoint you want to use\n",
    "pretrained_model_name_or_path = \"CompVis/stable-diffusion-v1-4\" #@param {type:\"string\"}\n",
    "#pretrained_model_name_or_path = \"/root/autodl-tmp/sd-concept-output\"\n",
    "\n",
    "KEEP_TRAINING = True\n",
    "DRY_RUN = True"
   ]
  },
  {
   "cell_type": "code",
   "execution_count": null,
   "metadata": {
    "executionInfo": {
     "elapsed": 5,
     "status": "ok",
     "timestamp": 1667803073383,
     "user": {
      "displayName": "Ethan Jiang",
      "userId": "03869454943297393300"
     },
     "user_tz": -480
    },
    "id": "q3hV97VnXTXb"
   },
   "outputs": [],
   "source": []
  },
  {
   "cell_type": "markdown",
   "metadata": {
    "id": "tB8tIMYGbnkW"
   },
   "source": [
    "### Data for teapot, pizza and snake"
   ]
  },
  {
   "cell_type": "code",
   "execution_count": null,
   "metadata": {
    "colab": {
     "base_uri": "https://localhost:8080/",
     "height": 161,
     "output_embedded_package_id": "1UDX_f_IcNCJUuLRwcFJq94b-J62aB_CY"
    },
    "executionInfo": {
     "elapsed": 1643,
     "status": "ok",
     "timestamp": 1667803075021,
     "user": {
      "displayName": "Ethan Jiang",
      "userId": "03869454943297393300"
     },
     "user_tz": -480
    },
    "id": "8i_vLTBxAXpE",
    "outputId": "a61df6b0-0825-4687-8b84-b6fa9e45e8be"
   },
   "outputs": [],
   "source": [
    "from collections import namedtuple\n",
    "from ti_utils import prepare_images\n",
    "\n",
    "TiInfo = namedtuple(\"TiInfo\", \"what_to_teach, placeholder_token, initializer_token, save_path\")\n",
    "\n",
    "def create_ti_infos():\n",
    "    ti_teapot = TiInfo(what_to_teach=\"object\", placeholder_token=\"|teapot|\", initializer_token=\"teapot\", save_path=\"./my_concept_teapot\")\n",
    "    prepare_images(ti_teapot.save_path)\n",
    "\n",
    "    ti_pizza = TiInfo(what_to_teach=\"object\", placeholder_token=\"|pizza|\", initializer_token=\"pizza\", save_path=\"./my_concept_pizza\")\n",
    "    prepare_images(ti_pizza.save_path)\n",
    "\n",
    "    ti_snake = TiInfo(what_to_teach=\"object\", placeholder_token=\"|snake|\", initializer_token=\"snake\", save_path=\"./my_concept_snake\")\n",
    "    prepare_images(ti_snake.save_path)\n",
    "\n",
    "    ti_infos = [ti_teapot, ti_pizza, ti_snake]\n",
    "    return ti_infos\n",
    "\n",
    "ti_infos = create_ti_infos()"
   ]
  },
  {
   "cell_type": "markdown",
   "metadata": {
    "id": "D633UIuGgs6M"
   },
   "source": [
    "## Teach the model a new concept (fine-tuning with textual inversion)\n",
    "Execute this this sequence of cells to run the training process. The whole process may take from 1-4 hours. (Open this block if you are interested in how this process works under the hood or if you want to change advanced training settings or hyperparameters)"
   ]
  },
  {
   "cell_type": "markdown",
   "metadata": {
    "id": "EuFP688UEwQR"
   },
   "source": [
    "### Create Dataset"
   ]
  },
  {
   "cell_type": "markdown",
   "metadata": {
    "id": "TmrXxJ-Eijwb"
   },
   "source": [
    "### Setting up the model"
   ]
  },
  {
   "cell_type": "code",
   "execution_count": null,
   "metadata": {
    "executionInfo": {
     "elapsed": 67,
     "status": "ok",
     "timestamp": 1667803079412,
     "user": {
      "displayName": "Ethan Jiang",
      "userId": "03869454943297393300"
     },
     "user_tz": -480
    },
    "id": "gIFaJum5nqeo"
   },
   "outputs": [],
   "source": [
    "#title Load the tokenizer and add the placeholder token as a additional special token.\n",
    "#@markdown Please read and if you agree accept the LICENSE [here](https://huggingface.co/CompVis/stable-diffusion-v1-4) if you see an error\n",
    "\n",
    "tokenizer = CLIPTokenizer.from_pretrained(\n",
    "    pretrained_model_name_or_path,\n",
    "    subfolder=\"tokenizer\",\n",
    ")\n",
    "\n",
    "# Load models and create wrapper for stable diffusion\n",
    "text_encoder = CLIPTextModel.from_pretrained(\n",
    "    pretrained_model_name_or_path, subfolder=\"text_encoder\"\n",
    ")\n",
    "vae = AutoencoderKL.from_pretrained(\n",
    "    pretrained_model_name_or_path, subfolder=\"vae\"\n",
    ")\n",
    "unet = UNet2DConditionModel.from_pretrained(\n",
    "    pretrained_model_name_or_path, subfolder=\"unet\"\n",
    ")\n"
   ]
  },
  {
   "cell_type": "code",
   "execution_count": null,
   "metadata": {
    "executionInfo": {
     "elapsed": 12219,
     "status": "ok",
     "timestamp": 1667803091594,
     "user": {
      "displayName": "Ethan Jiang",
      "userId": "03869454943297393300"
     },
     "user_tz": -480
    },
    "id": "27Ip3q9YoFut"
   },
   "outputs": [],
   "source": [
    "from ti_encoder import add_new_tokens_to_tokenizer, list_new_tokens\n",
    "\n",
    "initializer_tokens = []\n",
    "placeholder_tokens = []\n",
    "if KEEP_TRAINING:\n",
    "    #ethan: add new tokens to tokenizer\n",
    "\n",
    "    for ti_info in ti_infos:\n",
    "        initializer_tokens.append(ti_info.initializer_token)\n",
    "        placeholder_tokens.append(ti_info.placeholder_token)\n",
    "\n",
    "    add_new_tokens_to_tokenizer(tokenizer, initializer_tokens, placeholder_tokens)\n",
    "\n",
    "    list_new_tokens(tokenizer)\n"
   ]
  },
  {
   "cell_type": "markdown",
   "metadata": {
    "id": "GD5MU6EzFe27"
   },
   "source": [
    "We have added the `placeholder_token` in the `tokenizer` so we resize the token embeddings here, this will a new embedding vector in the token embeddings for our `placeholder_token`\n",
    "\n",
    " Initialise the newly added placeholder token with the embeddings of the initializer token"
   ]
  },
  {
   "cell_type": "code",
   "execution_count": null,
   "metadata": {
    "colab": {
     "base_uri": "https://localhost:8080/"
    },
    "executionInfo": {
     "elapsed": 24,
     "status": "ok",
     "timestamp": 1667803091595,
     "user": {
      "displayName": "Ethan Jiang",
      "userId": "03869454943297393300"
     },
     "user_tz": -480
    },
    "id": "24-9I6mIoORT",
    "outputId": "83e06780-507f-4b6b-ac3a-26c687c36f18"
   },
   "outputs": [],
   "source": [
    "from ti_encoder import add_new_token_to_encoder_with_init_embedding\n",
    "\n",
    "if KEEP_TRAINING:\n",
    "    #ethan: add new tokens to encoder: the new token should inherit existing token's embedding, by copying it \n",
    "    add_new_token_to_encoder_with_init_embedding(tokenizer,\n",
    "                                                text_encoder,\n",
    "                                                initializer_tokens, \n",
    "                                                placeholder_tokens)"
   ]
  },
  {
   "cell_type": "markdown",
   "metadata": {
    "id": "bQFUhImyFzoS"
   },
   "source": [
    "In Textual-Inversion we only train the newly added embedding vector, so lets freeze rest of the model parameters here"
   ]
  },
  {
   "cell_type": "code",
   "execution_count": null,
   "metadata": {
    "executionInfo": {
     "elapsed": 22,
     "status": "ok",
     "timestamp": 1667803091596,
     "user": {
      "displayName": "Ethan Jiang",
      "userId": "03869454943297393300"
     },
     "user_tz": -480
    },
    "id": "vQOYhpPqoS4H"
   },
   "outputs": [],
   "source": [
    "from ti_train import freeze_network\n",
    "freeze_network(vae, unet, text_encoder)"
   ]
  },
  {
   "cell_type": "markdown",
   "metadata": {
    "id": "KGfNa4dFF8Om"
   },
   "source": [
    "### Creating our training data"
   ]
  },
  {
   "cell_type": "markdown",
   "metadata": {
    "id": "UG_cy1BrGDIo"
   },
   "source": [
    "#### dataset_bpt \n",
    "Let's create the Dataset and Dataloader"
   ]
  },
  {
   "cell_type": "code",
   "execution_count": null,
   "metadata": {
    "colab": {
     "base_uri": "https://localhost:8080/"
    },
    "executionInfo": {
     "elapsed": 22,
     "status": "ok",
     "timestamp": 1667803091597,
     "user": {
      "displayName": "Ethan Jiang",
      "userId": "03869454943297393300"
     },
     "user_tz": -480
    },
    "id": "bctHoiRPoWlY",
    "outputId": "90c9b509-cf53-4fcd-e519-c27b8bca6922"
   },
   "outputs": [],
   "source": [
    "from ti_dataset import TextualInversionDataset, inspect_dataset\n",
    "\n",
    "def create_train_datasets(ti_infos):\n",
    "    train_datasets = []\n",
    "    for ti_info in ti_infos:\n",
    "        train_dataset = TextualInversionDataset(\n",
    "            data_root=ti_info.save_path,\n",
    "            tokenizer=tokenizer,\n",
    "            size=512,\n",
    "            placeholder_token=ti_info.placeholder_token,\n",
    "            repeats=100,\n",
    "            learnable_property=ti_info.what_to_teach, #Option selected above between object and style\n",
    "            center_crop=False,\n",
    "            set=\"train\",\n",
    "        )\n",
    "        print(ti_info)\n",
    "        inspect_dataset(train_dataset)\n",
    "        train_datasets.append(train_dataset)\n",
    "    return train_datasets"
   ]
  },
  {
   "cell_type": "code",
   "execution_count": null,
   "metadata": {
    "colab": {
     "base_uri": "https://localhost:8080/"
    },
    "executionInfo": {
     "elapsed": 38,
     "status": "ok",
     "timestamp": 1667803092062,
     "user": {
      "displayName": "Ethan Jiang",
      "userId": "03869454943297393300"
     },
     "user_tz": -480
    },
    "id": "d9QjpeHmHixH",
    "outputId": "a5c373dc-3a36-4d93-ead3-b965cacf0add"
   },
   "outputs": [],
   "source": [
    "#ethan concat dataset all together\n",
    "train_datasets = create_train_datasets(ti_infos)\n",
    "train_dataset_all = torch.utils.data.ConcatDataset(train_datasets)\n",
    "print(\"len(train_dataset_all)\", len(train_dataset_all))"
   ]
  },
  {
   "cell_type": "markdown",
   "metadata": {
    "id": "GJ4r0gzvGSg7"
   },
   "source": [
    "Define hyperparameters for our training\n",
    "If you are not happy with your results, you can tune the `learning_rate` and the `max_train_steps`"
   ]
  },
  {
   "cell_type": "code",
   "execution_count": null,
   "metadata": {
    "executionInfo": {
     "elapsed": 28,
     "status": "ok",
     "timestamp": 1667803092063,
     "user": {
      "displayName": "Ethan Jiang",
      "userId": "03869454943297393300"
     },
     "user_tz": -480
    },
    "id": "pnq5vah7pabU"
   },
   "outputs": [],
   "source": [
    "output_dir = \"sd-concept-output\"\n",
    "if os.path.isdir(\"/root/autodl-tmp\"):\n",
    "    output_dir = \"/root/autodl-tmp/sd-concept-output\"\n",
    "\n",
    "hyperparameters = {\n",
    "    \"learning_rate\": 5e-04,\n",
    "    \"scale_lr\": True,\n",
    "    \"max_train_steps\": 3000,\n",
    "    \"train_batch_size\": 1,\n",
    "    \"gradient_accumulation_steps\": 4,\n",
    "    \"seed\": 42,\n",
    "    \"output_dir\": output_dir\n",
    "}\n",
    "\n",
    "#hyperparameters[\"max_train_steps\"] = 100\n",
    "hyperparameters[\"max_train_steps\"] = 3000 * 3"
   ]
  },
  {
   "cell_type": "markdown",
   "metadata": {
    "id": "YNuNDw0wNN5X"
   },
   "source": [
    "Train!"
   ]
  },
  {
   "cell_type": "code",
   "execution_count": null,
   "metadata": {
    "executionInfo": {
     "elapsed": 467,
     "status": "ok",
     "timestamp": 1667803212561,
     "user": {
      "displayName": "Ethan Jiang",
      "userId": "03869454943297393300"
     },
     "user_tz": -480
    },
    "id": "djBS3343sIiY"
   },
   "outputs": [],
   "source": [
    "from ti_train import get_new_placeholder_token_ids, training_function\n",
    "import accelerate\n",
    "\n",
    "if KEEP_TRAINING:\n",
    "    new_placeholder_tokens = placeholder_tokens\n",
    "    _ids = get_new_placeholder_token_ids(tokenizer, new_placeholder_tokens)\n",
    "    print(_ids)\n",
    "\n",
    "    accelerate.notebook_launcher(training_function, \n",
    "                                 args=(hyperparameters, train_dataset_all, text_encoder, vae, unet, tokenizer, new_placeholder_tokens, DRY_RUN),\n",
    "                                 num_processes=1)\n",
    "    #training_function(hyperparameters, train_dataset_all, text_encoder, vae, unet, tokenizer, new_placeholder_tokens, DRY_RUN)"
   ]
  },
  {
   "cell_type": "markdown",
   "metadata": {
    "id": "50JuJUM8EG1h"
   },
   "source": [
    "## Run the code with your newly trained model\n",
    "If you have just trained your model with the code above, use the block below to run it\n",
    "\n",
    "To save this concept for re-using, download the `learned_embeds.bin` file or save it on the library of concepts.\n",
    "\n",
    "Use the [Stable Conceptualizer notebook](https://colab.research.google.com/github/huggingface/notebooks/blob/main/diffusers/stable_conceptualizer_inference.ipynb) for inference with persistently saved pre-trained concepts\n",
    "\n",
    " upload to\n",
    "https://huggingface.co/sd-concepts-library/ettblackteapot"
   ]
  },
  {
   "cell_type": "code",
   "execution_count": null,
   "metadata": {
    "executionInfo": {
     "elapsed": 21817,
     "status": "ok",
     "timestamp": 1667806199988,
     "user": {
      "displayName": "Ethan Jiang",
      "userId": "03869454943297393300"
     },
     "user_tz": -480
    },
    "id": "2CMlPbOeEC09"
   },
   "outputs": [],
   "source": [
    "#@title Set up the pipeline \n",
    "def load_new_pipe(model_path_or_name):\n",
    "    new_pipe = StableDiffusionPipeline.from_pretrained(\n",
    "        model_path_or_name,\n",
    "        torch_dtype=torch.float16,\n",
    "    ).to(\"cuda\")\n",
    "\n",
    "    new_tokenizer = CLIPTokenizer.from_pretrained(\n",
    "        model_path_or_name,\n",
    "        subfolder=\"tokenizer\",\n",
    "    )\n",
    "    print(model_path_or_name)\n",
    "    print(new_tokenizer)\n",
    "    print(new_tokenizer.vocab_size)\n",
    "    #text_encoder.resize_token_embeddings(len(tokenizer_new))\n",
    "    list_new_tokens(new_tokenizer)\n",
    "\n",
    "    return new_pipe\n",
    "\n",
    "new_pipe = load_new_pipe(hyperparameters[\"output_dir\"])"
   ]
  },
  {
   "cell_type": "code",
   "execution_count": null,
   "metadata": {},
   "outputs": [],
   "source": [
    "def draw_result_grid(prompt, pipe, num_samples=2, num_rows=2):\n",
    "    from ti_utils import image_grid\n",
    "    all_images = [] \n",
    "    for _ in range(num_rows):\n",
    "        images = pipe([prompt] * num_samples, num_inference_steps=50, guidance_scale=7.5).images\n",
    "        all_images.extend(images)\n",
    "\n",
    "    grid = image_grid(all_images, num_samples, num_rows)\n",
    "    return grid"
   ]
  },
  {
   "cell_type": "code",
   "execution_count": null,
   "metadata": {
    "colab": {
     "base_uri": "https://localhost:8080/",
     "height": 1000,
     "output_embedded_package_id": "1-LeAUJLVR176sD7Nx_Os9g2vh8Yvbr5G",
     "referenced_widgets": [
      "01fe66810fd7448b974a24af92cadcd0",
      "877fedb0e3f545248db5046519ce5e8b",
      "edb9427bfc7f47139e734841177d9165",
      "961ead445d4648aeb7f999bbd818a183",
      "82b193371e7544d695f2357aa27da955",
      "85fdd2bf0cc94dcaa9188ef53ccf9879",
      "9ac209fd4d7140cd85a083ce2ecaf9d2",
      "21655da99c3b4a7bac1cfda5ec38aaf6",
      "5d8ed8655b544c238352cecaa2015ebd",
      "9ec21955a78045d6b50c7a87c70c2380",
      "36810da4fac5420c86ac1f9df1027e20",
      "3bfef28963f343d39f73344ccb77f369",
      "e5820da0790f44508906600eb44d2ed6",
      "a26c87ad8d7d4587b38aacf6272d3a50",
      "379f6621dbea44c7bdc1b2bb04ed6d67",
      "e6448e86aa4044cdae9a6eeb0e551439",
      "30a26751aa1e4fdf8e349290a2c8c6a6",
      "dda0b316afcb4b24a0e58fbbfd181470",
      "3b53c83d7dec4b789d800171b302186d",
      "ff28621da81a449bb1118aa5e68a49ac",
      "b7e140c6e4184cbc91a5a5a63f61ca81",
      "ab5eccfa641b4bbcb2310a3f877b7f39"
     ]
    },
    "executionInfo": {
     "elapsed": 10771,
     "status": "ok",
     "timestamp": 1667806210764,
     "user": {
      "displayName": "Ethan Jiang",
      "userId": "03869454943297393300"
     },
     "user_tz": -480
    },
    "id": "E3UREGd7EkLh",
    "outputId": "cbc41700-4c64-4c25-93fc-fa65cf21aa55"
   },
   "outputs": [],
   "source": [
    "prompt = \"a grafitti in a wall with a |teapot| on it\" #@param {type:\"string\"}\n",
    "\n",
    "num_samples = 2 #@param {type:\"number\"}\n",
    "num_rows = 2 #@param {type:\"number\"}\n",
    "\n",
    "draw_result_grid(prompt, new_pipe, num_samples=num_samples, num_rows=num_rows)"
   ]
  },
  {
   "cell_type": "code",
   "execution_count": null,
   "metadata": {},
   "outputs": [],
   "source": [
    "prompt = \"a grafitti in a wall with a teapot on it\" #@param {type:\"string\"}\n",
    "\n",
    "num_samples = 2 #@param {type:\"number\"}\n",
    "num_rows = 2 #@param {type:\"number\"}\n",
    "\n",
    "draw_result_grid(prompt, new_pipe, num_samples=num_samples, num_rows=num_rows)"
   ]
  },
  {
   "cell_type": "code",
   "execution_count": null,
   "metadata": {
    "colab": {
     "base_uri": "https://localhost:8080/",
     "height": 1000,
     "output_embedded_package_id": "1QCZB9OurAqEklLb_pEOykVgsFLshr0s5",
     "referenced_widgets": [
      "ca4f6696dc4d4f6d800e15c726f561e0",
      "47478d77168f4d0588704d3ad5ddebdb",
      "8b0e69dc069a4116be1730ca858fdbfe",
      "84c110b82b974d66858b9b9b01777201",
      "1ed85fcaede244db97a02f06d56746a5",
      "33a06d95c5b04e42b6d0732ef49fd3f0",
      "c0f06157d3b149b09c8f3bb2803339b9",
      "73041b2ab52844ba80bfe0254ed4b7ca",
      "972d5e70c4b04a9cbb8f29ed48053f6d",
      "9d71706aa02b4e4e86699c30b7e2beac",
      "9d1c09e0e7fa415da697c656a3866945",
      "422aaa673d5347d987ef29a5b11d066c",
      "7bdc56240b2d4bcb808b34170630d271",
      "b0219a21a4dc4b3190e5a49ba2c11627",
      "23db70f408a74873af38cc110006e16d",
      "862b076079ac4dde9e34310f2761bb8c",
      "ced34f4196f1490ba7a6a07899c1bc00",
      "d9bf1ff7c77043ebb36a01dd4a15be56",
      "7f7088ff35704dea98ca2496c498e1b1",
      "3fee50cb800f42afa1f816c0867412ea",
      "3e4946b2cb5b4dfaa71f59bb75a6ae42",
      "a5d0c9137cfc4a5ea17fd13454d88216"
     ]
    },
    "executionInfo": {
     "elapsed": 10248,
     "status": "ok",
     "timestamp": 1667806401876,
     "user": {
      "displayName": "Ethan Jiang",
      "userId": "03869454943297393300"
     },
     "user_tz": -480
    },
    "id": "lckUT5dRAckG",
    "outputId": "5e8753af-7e12-4f41-d0c4-69a74cd9edac"
   },
   "outputs": [],
   "source": [
    "prompt = \"a grafitti in a wall with a |snake| on it\" #@param {type:\"string\"}\n",
    "\n",
    "num_samples = 2 #@param {type:\"number\"}\n",
    "num_rows = 2 #@param {type:\"number\"}\n",
    "\n",
    "draw_result_grid(prompt, new_pipe, num_samples=num_samples, num_rows=num_rows)"
   ]
  },
  {
   "cell_type": "code",
   "execution_count": null,
   "metadata": {},
   "outputs": [],
   "source": [
    "prompt = \"a grafitti in a wall with a snake on it\" #@param {type:\"string\"}\n",
    "\n",
    "num_samples = 2 #@param {type:\"number\"}\n",
    "num_rows = 2 #@param {type:\"number\"}\n",
    "\n",
    "draw_result_grid(prompt, new_pipe, num_samples=num_samples, num_rows=num_rows)"
   ]
  },
  {
   "cell_type": "code",
   "execution_count": null,
   "metadata": {
    "colab": {
     "base_uri": "https://localhost:8080/",
     "height": 1000,
     "output_embedded_package_id": "1JeDG7bzFtOSVzkTqjK2C2U4cBkUMplRI",
     "referenced_widgets": [
      "4be7870b095e41d2a4e484a822975106",
      "6f1d575051034705a558f712b47f06b5",
      "9f48bae87efd49ad925a70cbf7afb25e",
      "2f2c6ea04fb64cf3b62edec930b9ea6c",
      "9f31ae486687480e9192db8ac44ffbc9",
      "93817c44bc4b4e839da96e339f15cace",
      "a67b0453487340da81000998297c989c",
      "fa187ab049a04fb08d925abd0f1b1ca8",
      "69afd495dd4442d0aa190433cda981d9",
      "49113c1410fd485cb3ebfbe08960df5a",
      "d56a057838e04697aeacb6a09dcdc542",
      "2a1c7318226a4eec85a0da53391a1b01",
      "7fd8b96abe0d4435b3a2b4de0db1258a",
      "5fc267748dea43379c061aba7e10793b",
      "3c655a37d6c94c1cbe13e6096cb9dd3b",
      "08c3f4242fc04b6aaec90df660f6de85",
      "e6d496bd08f749a89f747fa93eb1bb4f",
      "46992d82620b44859875fdf3bbe81611",
      "2ce62d11f18c46eda20f18702f516f49",
      "9ad7f71f38e341dca629855c3cd35482",
      "d973131721d146dc9a6161d4cc700ecd",
      "c6e87fb60ee74104a63a425eee4f25db"
     ]
    },
    "executionInfo": {
     "elapsed": 10333,
     "status": "ok",
     "timestamp": 1667806430618,
     "user": {
      "displayName": "Ethan Jiang",
      "userId": "03869454943297393300"
     },
     "user_tz": -480
    },
    "id": "hg_EkKQkAjIU",
    "outputId": "51da3581-d529-4e06-d521-ebf0e5624ae7"
   },
   "outputs": [],
   "source": [
    "prompt = \"a grafitti in a wall with a |pizza| on it\" #@param {type:\"string\"}\n",
    "\n",
    "num_samples = 2 #@param {type:\"number\"}\n",
    "num_rows = 2 #@param {type:\"number\"}\n",
    "\n",
    "draw_result_grid(prompt, new_pipe, num_samples=num_samples, num_rows=num_rows)"
   ]
  },
  {
   "cell_type": "code",
   "execution_count": null,
   "metadata": {},
   "outputs": [],
   "source": [
    "prompt = \"a grafitti in a wall with a pizza on it\" #@param {type:\"string\"}\n",
    "\n",
    "num_samples = 2 #@param {type:\"number\"}\n",
    "num_rows = 2 #@param {type:\"number\"}\n",
    "\n",
    "draw_result_grid(prompt, new_pipe, num_samples=num_samples, num_rows=num_rows)"
   ]
  },
  {
   "cell_type": "code",
   "execution_count": null,
   "metadata": {
    "colab": {
     "base_uri": "https://localhost:8080/",
     "height": 1000,
     "output_embedded_package_id": "1ggEfZ1PTis_itjivHJ-B5ftpf8HLZkyg",
     "referenced_widgets": [
      "f2e3d677902a4cc2875a3d500b339c32",
      "f5fcdb1bd2c54e078f02f0946068a70e",
      "d1c350de4c5544b5a9a6853808c29b24",
      "b44ecb689e46435996daf8966713c746",
      "480e4cbc9371470090cf0f3ccbe30d74",
      "12f0a6affa0545469962aa180cfd718a",
      "3ea0f3b89cd741fca38057e788f4d779",
      "6bd56c1a3a6445059a89cb65ecf1e4b0",
      "4836db455d2f4de08c9db51948708cc9",
      "68f964b5480f4a53bd7e239ef9dcdef5",
      "0216cc6669a54cf1adb865f04a07689d",
      "3156d8e3423c4a138c88eca89979e9e2",
      "3cf4bf1b31f44c26b28b6474a20e63b8",
      "ef02aba1c0724e2d94b1ba264018c04a",
      "7b93c3996b3440ed8d5f0af7ac205df3",
      "3cc07092900741dab56617e3a60678d5",
      "6e1850c5670541beb27d37929eba3d7d",
      "d7ec91f3cb6d43c58e858afb195f33d4",
      "be52e423eb3f465ea7fce95ad49a2ea8",
      "93fdfeaf8dac4df0b11172d08f09fbf3",
      "87c9702bc8fb407491e6a47a765f9055",
      "f911f1db69094c6d8fbc9a29d49eb6b5"
     ]
    },
    "executionInfo": {
     "elapsed": 8203,
     "status": "ok",
     "timestamp": 1667806219482,
     "user": {
      "displayName": "Ethan Jiang",
      "userId": "03869454943297393300"
     },
     "user_tz": -480
    },
    "id": "JkHMoAj1X9GC",
    "outputId": "833fb092-d223-458f-a1a7-6ae189174683"
   },
   "outputs": [],
   "source": [
    "#@title Run the Stable Diffusion pipeline\n",
    "#@markdown Don't forget to use the placeholder token in your prompt\n",
    "\n",
    "prompt = \" a picture of |teapot|, |snake|\" #@param {type:\"string\"}\n",
    "\n",
    "num_samples = 2 #@param {type:\"number\"}\n",
    "num_rows = 2 #@param {type:\"number\"}\n",
    "\n",
    "draw_result_grid(prompt, new_pipe, num_samples=num_samples, num_rows=num_rows)"
   ]
  },
  {
   "cell_type": "code",
   "execution_count": null,
   "metadata": {
    "colab": {
     "base_uri": "https://localhost:8080/",
     "height": 1000,
     "output_embedded_package_id": "1JAV750hjeRM-den65vIAXsISjL4v0_mi",
     "referenced_widgets": [
      "6b29a8ca72274232851c67cade6a1046",
      "41ff2874f0594b95900dfcea1a5f46bb",
      "01f5b1af2a774d46a1699ea434d07f32",
      "ede7ef58da004978a2dc334934c8ff56",
      "679483ce29024cefbd6819ba73515d6d",
      "f09e93e074704076a8b281066d8660cc",
      "78b1b8c520d646e7871c8df17b31ff08",
      "9313b7c9cb5e4615a4fbc2f861ba99c5",
      "993aa76dc321480480938a1d664ebca7",
      "2b4226bf4d354c848d83f096542cc489",
      "1d39b70f3a5f4cf3802276c91c4879ca",
      "799073ee121442cd91fb09a55bc17c6c",
      "d08fdbeb250e4e3d8ed9c684e7f1bc52",
      "34dbdd1b65124f1ebab11ca419c650f4",
      "3c576848167049ffa4bab22e64fa8408",
      "2f784aaffaa64cb9bfa521c2cec4f92f",
      "97cde8d15c8f450f8e3b5b540624212a",
      "33a060d9b6b9417cb38bd8f54e0b28ed",
      "d503875cfb7d4fc9bc640f9542aa309a",
      "84e00bcb142b45708ee2b08c5f39cb32",
      "c2bfe394b7424215964b76ee5d2a4d6e",
      "f07836a8144647918d9e30dc9adbc3ce"
     ]
    },
    "executionInfo": {
     "elapsed": 10136,
     "status": "ok",
     "timestamp": 1667806481754,
     "user": {
      "displayName": "Ethan Jiang",
      "userId": "03869454943297393300"
     },
     "user_tz": -480
    },
    "id": "W5yy32c2AuWr",
    "outputId": "6f01732a-7865-495d-d289-bb46c09d528b"
   },
   "outputs": [],
   "source": [
    "#@title Run the Stable Diffusion pipeline\n",
    "#@markdown Don't forget to use the placeholder token in your prompt\n",
    "\n",
    "prompt = \" a picture of |snake|, |teapot|\" #@param {type:\"string\"}\n",
    "\n",
    "num_samples = 2 #@param {type:\"number\"}\n",
    "num_rows = 2 #@param {type:\"number\"}\n",
    "\n",
    "draw_result_grid(prompt, new_pipe, num_samples=num_samples, num_rows=num_rows)"
   ]
  },
  {
   "cell_type": "code",
   "execution_count": null,
   "metadata": {
    "colab": {
     "base_uri": "https://localhost:8080/",
     "height": 1000,
     "output_embedded_package_id": "1lpeQ9GUkjl7OXiZyDRwUGczNtXage6eG",
     "referenced_widgets": [
      "1465ff5e9f334707b1caeb728c1456f6",
      "3849d70132d8496bb61f096ce0b13c7e",
      "a0355c738fb942a488a1ce7415cd9410",
      "ba52713199b5469bb2e7dc8caa3be2ed",
      "0ea7aa2d0c004f54a9b56ccf8215b37d",
      "24f67ed7cd7741dfba70e78812a4832d",
      "b427fea7f11b4aa9bbce75999322ad64",
      "ee7db22d7422446da3e430f77b89e761",
      "6d91f678bdbf4b4d8836365654995da6",
      "1a1c4c96ecab419498ce68d1a65c0e05",
      "0aae1c7404b541c8a879f58fa40366e8",
      "4df8191d53644033be4ec7b187c4b892",
      "4adeafe84bec46c5ae9ae0edb47524e4",
      "f9745199f80e49fa83ae51acc70b5f3f",
      "fe2ef355fa05490f8ef11c79687f2c43",
      "c574d33e27a04e6bbddbee5bd2cc9ff4",
      "2d8c7f2f53f547a68bca0d4571ab0a0e",
      "28708a5709744accbf11eec9763b2ccd",
      "2a831722184e4721a730dedf7db4fbd7",
      "900499a0a6af4102bea6ba5db5512ed8",
      "b8064b19176b46fd91e0d6be8729033a",
      "6cb50290a88749749822902eac49c340"
     ]
    },
    "executionInfo": {
     "elapsed": 10037,
     "status": "ok",
     "timestamp": 1667806497487,
     "user": {
      "displayName": "Ethan Jiang",
      "userId": "03869454943297393300"
     },
     "user_tz": -480
    },
    "id": "aB89fqSkAzcs",
    "outputId": "a2ac1c8a-21d7-42c7-9969-6b5c9424fd7f"
   },
   "outputs": [],
   "source": [
    "#@title Run the Stable Diffusion pipeline\n",
    "#@markdown Don't forget to use the placeholder token in your prompt\n",
    "\n",
    "prompt = \" a picture of |pizza|, |teapot|\" #@param {type:\"string\"}\n",
    "\n",
    "num_samples = 2 #@param {type:\"number\"}\n",
    "num_rows = 2 #@param {type:\"number\"}\n",
    "\n",
    "draw_result_grid(prompt, new_pipe, num_samples=num_samples, num_rows=num_rows)"
   ]
  },
  {
   "cell_type": "code",
   "execution_count": null,
   "metadata": {
    "colab": {
     "base_uri": "https://localhost:8080/",
     "height": 1000,
     "output_embedded_package_id": "1UtFry6jxrquhariWZAaHc3QoHvrrHJp_",
     "referenced_widgets": [
      "1ceedab305234085aa78fbc3c36943ac",
      "79fec3d36d344c00a624fc3d5b58b805",
      "ae5e44492d644a979e6dc322954d5736",
      "a07dcf0ef5174d018d8879eacf797c31",
      "d8e2c2e6734b49b7ba92f0e6eb2d42a6",
      "a3b907dbcaad46a9b106e7c3adc46fb5",
      "8b170a60d40748dd93b1a89a9376870e",
      "80895791186e480da16fd85eeb76108c",
      "e2798a56c1464486934dfad64c5e3276",
      "880f32328ded4f828c39db285db3d4a0",
      "2bba28b6aeaa4bd3a0aa9feb29615b68",
      "e7c97103c5a946b28966cf12d3ce9b99",
      "6ec31de8a03a4c4597d341af6e4a6029",
      "cb808fa799264652a694814a96b80780",
      "c2a3175ef8d54f6c9d01b42eb324d7a8",
      "a5be88875c744a41ad3977239d96bdfc",
      "0341adf00ef9419791fb23416ac392b1",
      "b1211349b5da445497d893b7eebe6408",
      "043671be711c47e881e968f9bd2eafde",
      "f39e3650406b4ad8acd01f2923c724d9",
      "c7be3773c322400f8be8803e9a48a559",
      "6e9340f62d6546d6b2cfce024ed1bee6"
     ]
    },
    "executionInfo": {
     "elapsed": 10199,
     "status": "ok",
     "timestamp": 1667807047236,
     "user": {
      "displayName": "Ethan Jiang",
      "userId": "03869454943297393300"
     },
     "user_tz": -480
    },
    "id": "kzr2n2cVB1_z",
    "outputId": "2a8bc73a-cb10-4068-db5e-ce332ef7a492"
   },
   "outputs": [],
   "source": [
    "#@title Run the Stable Diffusion pipeline\n",
    "#@markdown Don't forget to use the placeholder token in your prompt\n",
    "\n",
    "prompt = \" a |pizza| is on grass, and a |btp| and  a |snake| are nearby\" #@param {type:\"string\"}\n",
    "\n",
    "num_samples = 2 #@param {type:\"number\"}\n",
    "num_rows = 2 #@param {type:\"number\"}\n",
    "\n",
    "draw_result_grid(prompt, new_pipe, num_samples=num_samples, num_rows=num_rows)"
   ]
  }
 ],
 "metadata": {
  "accelerator": "GPU",
  "colab": {
   "collapsed_sections": [],
   "machine_shape": "hm",
   "provenance": [
    {
     "file_id": "https://github.com/huggingface/notebooks/blob/main/diffusers/sd_textual_inversion_training.ipynb",
     "timestamp": 1667740427942
    }
   ]
  },
  "gpuClass": "premium",
  "kernelspec": {
   "display_name": "Python 3.8.10 ('venv': venv)",
   "language": "python",
   "name": "python3"
  },
  "language_info": {
   "codemirror_mode": {
    "name": "ipython",
    "version": 3
   },
   "file_extension": ".py",
   "mimetype": "text/x-python",
   "name": "python",
   "nbconvert_exporter": "python",
   "pygments_lexer": "ipython3",
   "version": "3.8.10"
  },
  "vscode": {
   "interpreter": {
    "hash": "3d1dc4f8534a498ef370baa8711b00cfd69a4054ac760ddf6be90dc93458b98f"
   }
  }
 },
 "nbformat": 4,
 "nbformat_minor": 0
}
